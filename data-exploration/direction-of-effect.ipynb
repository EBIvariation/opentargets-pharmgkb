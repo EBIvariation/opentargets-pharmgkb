{
 "cells": [
  {
   "cell_type": "markdown",
   "id": "9d2ed9ab-c78b-4d67-8b9b-18d22e44444b",
   "metadata": {},
   "source": [
    "# Variant annotation tables & direction of effect investigation\n",
    "\n",
    "## Table of contents\n",
    "\n",
    "1. [Initial data exploration](#Initial-data-exploration)\n",
    "2. [Coverage](#Coverage)\n",
    "3. [Direction of effect](#Direction-of-effect)\n",
    "4. [Alleles and genotypes](#Alleles-and-genotypes)\n",
    "5. [Summary](#Summary)"
   ]
  },
  {
   "cell_type": "code",
   "execution_count": 96,
   "id": "c6f9476d-828f-4ff7-82df-e2830b3e2767",
   "metadata": {
    "pycharm": {
     "name": "#%%\n"
    }
   },
   "outputs": [],
   "source": [
    "import os\n",
    "import csv\n",
    "import re\n",
    "from collections import Counter\n",
    "\n",
    "import pandas as pd\n",
    "\n",
    "from opentargets_pharmgkb.evidence_generation import ID_COL_NAME\n",
    "from opentargets_pharmgkb.pandas_utils import read_tsv_to_df"
   ]
  },
  {
   "cell_type": "code",
   "execution_count": 6,
   "id": "e6a46840-39c0-4518-8a05-9258568cda20",
   "metadata": {
    "pycharm": {
     "name": "#%%\n"
    }
   },
   "outputs": [],
   "source": [
    "pd.set_option('display.max_columns', None)\n",
    "pd.set_option('display.max_rows', 100)\n",
    "pd.set_option('display.max_colwidth', None)"
   ]
  },
  {
   "cell_type": "markdown",
   "id": "bf50f6c5-0b82-41f7-932e-1b78c2dc22df",
   "metadata": {},
   "source": [
    "## Initial data exploration\n",
    "\n",
    "[Top of page](#Table-of-contents)"
   ]
  },
  {
   "cell_type": "code",
   "execution_count": 4,
   "id": "27861f6f-9343-4c44-be4f-4bf70e39eee4",
   "metadata": {
    "pycharm": {
     "name": "#%%\n"
    }
   },
   "outputs": [],
   "source": [
    "data_dir = '/home/april/projects/opentargets/pharmgkb/doe'"
   ]
  },
  {
   "cell_type": "code",
   "execution_count": 5,
   "id": "6c87bbc9-4c87-40a0-84d5-de9249f50192",
   "metadata": {
    "pycharm": {
     "name": "#%%\n"
    }
   },
   "outputs": [],
   "source": [
    "# Download new data (2024-05-05)\n",
    "# !cd {data_dir}\n",
    "\n",
    "# !wget -q https://api.pharmgkb.org/v1/download/file/data/clinicalAnnotations.zip\n",
    "# !wget -q https://api.pharmgkb.org/v1/download/file/data/variantAnnotations.zip\n",
    "\n",
    "# !unzip -jq clinicalAnnotations.zip \"*.tsv\" -d {data_dir}\n",
    "# !unzip -jq variantAnnotations.zip \"*.tsv\" -d {data_dir}\n",
    "\n",
    "# !rm clinicalAnnotations.zip variantAnnotations.zip"
   ]
  },
  {
   "cell_type": "markdown",
   "id": "1cd29785-b1ff-4e7f-af3a-fd42d2fd3058",
   "metadata": {},
   "source": [
    "The variant annotations zip file contains 4 new tables, described in the readme as follows:\n",
    ">* **var_pheno_ann.tsv**: Contains associations in which the variant affects a phenotype, with or without drug\n",
    "information.\n",
    ">* **var_drug_ann.tsv**: Contains associations in which the variant affects a drug dose, response, metabolism, etc.\n",
    ">* **var_fa_ann.tsv**: Contains in vitro and functional analysis-type associations.\n",
    ">* **study_parameters.tsv**: Contains information about the study population size, biogeographical group and statistics\n",
    "for the variant annotations; this file is cross-referenced against the 3 variant annotation files.\n",
    "\n",
    "Study parameters table is interesting but feels out of scope for now at least, will ignore for the rest of the notebook."
   ]
  },
  {
   "cell_type": "code",
   "execution_count": 11,
   "id": "4d823e4f-3e41-4bc6-a1d3-003c6bd14898",
   "metadata": {
    "pycharm": {
     "name": "#%%\n"
    }
   },
   "outputs": [],
   "source": [
    "var_drug_ann = read_tsv_to_df(os.path.join(data_dir, 'var_drug_ann.tsv'))\n",
    "var_fa_ann = read_tsv_to_df(os.path.join(data_dir, 'var_fa_ann.tsv'))\n",
    "var_pheno_ann = read_tsv_to_df(os.path.join(data_dir, 'var_pheno_ann.tsv'))"
   ]
  },
  {
   "cell_type": "markdown",
   "id": "f7c7bbdb-9a0f-45ba-ac34-4070b8f0dbdb",
   "metadata": {},
   "source": [
    "Questions to consider:\n",
    "* How many annotations?\n",
    "* What's the coverage of variant/haplotypes relative to clinical annotations?\n",
    "* What are the relevant fields?\n",
    "* What's the relationship between these annotations and clinical annotations?\n",
    "* Which of these columns has a controlled vocab vs. free text?\n",
    "* How do the different variant-level annotation sentences contribute to the overall clincial annotation sentences?"
   ]
  },
  {
   "cell_type": "code",
   "execution_count": 30,
   "id": "0852d631-f8ff-4fa8-afe0-6b2599b0b9c7",
   "metadata": {},
   "outputs": [
    {
     "data": {
      "text/plain": [
       "11901"
      ]
     },
     "execution_count": 30,
     "metadata": {},
     "output_type": "execute_result"
    }
   ],
   "source": [
    "len(var_drug_ann)"
   ]
  },
  {
   "cell_type": "code",
   "execution_count": 31,
   "id": "64ac3c98-d1cf-48c1-8805-ecdc4530d649",
   "metadata": {},
   "outputs": [
    {
     "data": {
      "text/plain": [
       "2009"
      ]
     },
     "execution_count": 31,
     "metadata": {},
     "output_type": "execute_result"
    }
   ],
   "source": [
    "len(var_fa_ann)"
   ]
  },
  {
   "cell_type": "code",
   "execution_count": 32,
   "id": "b826596b-12e4-4095-b9f5-f07796f0e7d7",
   "metadata": {},
   "outputs": [
    {
     "data": {
      "text/plain": [
       "13517"
      ]
     },
     "execution_count": 32,
     "metadata": {},
     "output_type": "execute_result"
    }
   ],
   "source": [
    "len(var_pheno_ann)"
   ]
  },
  {
   "cell_type": "code",
   "execution_count": null,
   "id": "d22115ea-56f6-404d-9839-c91c8ed74a89",
   "metadata": {
    "pycharm": {
     "name": "#%%\n"
    },
    "scrolled": true
   },
   "outputs": [],
   "source": [
    "# Looking at the data - output suppressed for brevity\n",
    "var_drug_ann.head()"
   ]
  },
  {
   "cell_type": "code",
   "execution_count": null,
   "id": "12dada29-2a14-4992-acf4-45115aed57d2",
   "metadata": {
    "pycharm": {
     "name": "#%%\n"
    },
    "scrolled": true
   },
   "outputs": [],
   "source": [
    "var_fa_ann.head()"
   ]
  },
  {
   "cell_type": "code",
   "execution_count": null,
   "id": "70537798-e6fb-47f5-8ba2-6859c4b645a2",
   "metadata": {
    "scrolled": true
   },
   "outputs": [],
   "source": [
    "var_pheno_ann.head()"
   ]
  },
  {
   "cell_type": "markdown",
   "id": "3b84a02e-1791-4a6b-8223-d904442ddf7c",
   "metadata": {},
   "source": [
    "The 3 annotations tables provide evidence for the clinical annotations, can be connected by joining with the `clinical_ann_evidence.tsv` file. In general a clinical annotation can have multiple variant annotations as evidence, and a variant annotation can be used as evidence for multiple clinical annotations.\n",
    "\n",
    "Each of these tables has a \"Direction of effect\" column, and the type of \"effect\" is different for each - likelihood of side effects, formation of product, metabolism of drug, etc.\n",
    "\n",
    "**Question for OT**: when we say \"direction of effect\", do we mean any of these \"effects\"? I.e. should we include all three of these tables or focus on one?"
   ]
  },
  {
   "cell_type": "code",
   "execution_count": 38,
   "id": "d43fd147-43b4-4541-9595-f757da937e60",
   "metadata": {},
   "outputs": [],
   "source": [
    "clinical_annotations = read_tsv_to_df(os.path.join(data_dir, 'clinical_annotations.tsv'))\n",
    "clinical_ann_evidence = read_tsv_to_df(os.path.join(data_dir, 'clinical_ann_evidence.tsv'))\n",
    "clinical_ann_alleles = read_tsv_to_df(os.path.join(data_dir, 'clinical_ann_alleles.tsv'))"
   ]
  },
  {
   "cell_type": "code",
   "execution_count": 122,
   "id": "1a553aac-a9f7-4579-ab7c-05fa6f90ddfe",
   "metadata": {},
   "outputs": [],
   "source": [
    "main_df = pd.merge(clinical_annotations, clinical_ann_evidence, how='left', on=ID_COL_NAME)\n",
    "main_df = main_df[[\n",
    "    # Main table\n",
    "    'Clinical Annotation ID', 'Variant/Haplotypes', 'Gene', 'Level of Evidence', 'Phenotype Category', 'Drug(s)', 'Phenotype(s)',\n",
    "    # Evidence table\n",
    "    'Evidence ID', 'Evidence Type', 'PMID', 'Summary',\n",
    "]]"
   ]
  },
  {
   "cell_type": "code",
   "execution_count": 123,
   "id": "5b691865-956d-4543-97fc-798be58842bd",
   "metadata": {},
   "outputs": [],
   "source": [
    "# https://www.pharmgkb.org/clinicalAnnotation/981755803 - has all three types of variant annotation evidence, plus label/guideline evidence\n",
    "df_981755803 = main_df[main_df[ID_COL_NAME] == '981755803']"
   ]
  },
  {
   "cell_type": "code",
   "execution_count": 124,
   "id": "f5bb8c9e-baeb-4ef6-9373-7c38a333601c",
   "metadata": {},
   "outputs": [],
   "source": [
    "# Just look at one clinical annotation as an example\n",
    "df_981755803_drug = pd.merge(df_981755803, var_drug_ann, left_on='Evidence ID', right_on='Variant Annotation ID', how='inner', suffixes=(None, '_var_drug'))\n",
    "df_981755803_pheno = pd.merge(df_981755803, var_pheno_ann, left_on='Evidence ID', right_on='Variant Annotation ID', how='inner', suffixes=(None, '_var_pheno'))\n",
    "df_981755803_fa = pd.merge(df_981755803, var_fa_ann, left_on='Evidence ID', right_on='Variant Annotation ID', how='inner', suffixes=(None, '_var_fa'))"
   ]
  },
  {
   "cell_type": "code",
   "execution_count": 125,
   "id": "811adf62-6f79-4451-9a3e-2772057e4a01",
   "metadata": {},
   "outputs": [
    {
     "data": {
      "text/plain": [
       "30"
      ]
     },
     "execution_count": 125,
     "metadata": {},
     "output_type": "execute_result"
    }
   ],
   "source": [
    "len(df_981755803)"
   ]
  },
  {
   "cell_type": "code",
   "execution_count": 126,
   "id": "61affced-e597-490f-8580-f77ca577aec7",
   "metadata": {},
   "outputs": [
    {
     "data": {
      "text/plain": [
       "24"
      ]
     },
     "execution_count": 126,
     "metadata": {},
     "output_type": "execute_result"
    }
   ],
   "source": [
    "len(df_981755803_drug)"
   ]
  },
  {
   "cell_type": "code",
   "execution_count": 127,
   "id": "4ec0a5bd-8661-45a2-9370-a2522ed2150e",
   "metadata": {},
   "outputs": [
    {
     "data": {
      "text/plain": [
       "2"
      ]
     },
     "execution_count": 127,
     "metadata": {},
     "output_type": "execute_result"
    }
   ],
   "source": [
    "len(df_981755803_fa)"
   ]
  },
  {
   "cell_type": "code",
   "execution_count": 128,
   "id": "923be524-0d8d-46d6-bb31-10a0f504905d",
   "metadata": {},
   "outputs": [
    {
     "data": {
      "text/plain": [
       "2"
      ]
     },
     "execution_count": 128,
     "metadata": {},
     "output_type": "execute_result"
    }
   ],
   "source": [
    "len(df_981755803_pheno)"
   ]
  },
  {
   "cell_type": "code",
   "execution_count": 206,
   "id": "c4a15bc6-90fc-4d4b-bd0e-621b8ffd6093",
   "metadata": {},
   "outputs": [
    {
     "data": {
      "text/html": [
       "<div>\n",
       "<style scoped>\n",
       "    .dataframe tbody tr th:only-of-type {\n",
       "        vertical-align: middle;\n",
       "    }\n",
       "\n",
       "    .dataframe tbody tr th {\n",
       "        vertical-align: top;\n",
       "    }\n",
       "\n",
       "    .dataframe thead th {\n",
       "        text-align: right;\n",
       "    }\n",
       "</style>\n",
       "<table border=\"1\" class=\"dataframe\">\n",
       "  <thead>\n",
       "    <tr style=\"text-align: right;\">\n",
       "      <th></th>\n",
       "      <th>Clinical Annotation ID</th>\n",
       "      <th>Variant/Haplotypes</th>\n",
       "      <th>Gene</th>\n",
       "      <th>Level of Evidence</th>\n",
       "      <th>Phenotype Category</th>\n",
       "      <th>Drug(s)</th>\n",
       "      <th>Phenotype(s)</th>\n",
       "      <th>Evidence ID</th>\n",
       "      <th>Evidence Type</th>\n",
       "      <th>PMID</th>\n",
       "      <th>Summary</th>\n",
       "      <th>Variant Annotation ID</th>\n",
       "      <th>Variant/Haplotypes_var_drug</th>\n",
       "      <th>Gene_var_drug</th>\n",
       "      <th>Drug(s)_var_drug</th>\n",
       "      <th>PMID_var_drug</th>\n",
       "      <th>Phenotype Category_var_drug</th>\n",
       "      <th>Significance</th>\n",
       "      <th>Notes</th>\n",
       "      <th>Sentence</th>\n",
       "      <th>Alleles</th>\n",
       "      <th>Specialty Population</th>\n",
       "      <th>Metabolizer types</th>\n",
       "      <th>isPlural</th>\n",
       "      <th>Is/Is Not associated</th>\n",
       "      <th>Direction of effect</th>\n",
       "      <th>PD/PK terms</th>\n",
       "      <th>Multiple drugs And/or</th>\n",
       "      <th>Population types</th>\n",
       "      <th>Population Phenotypes or diseases</th>\n",
       "      <th>Multiple phenotypes or diseases And/or</th>\n",
       "      <th>Comparison Allele(s) or Genotype(s)</th>\n",
       "      <th>Comparison Metabolizer types</th>\n",
       "    </tr>\n",
       "  </thead>\n",
       "  <tbody>\n",
       "    <tr>\n",
       "      <th>0</th>\n",
       "      <td>981755803</td>\n",
       "      <td>rs75527207</td>\n",
       "      <td>CFTR</td>\n",
       "      <td>1A</td>\n",
       "      <td>Efficacy</td>\n",
       "      <td>ivacaftor</td>\n",
       "      <td>Cystic Fibrosis</td>\n",
       "      <td>981755665</td>\n",
       "      <td>Variant Drug Annotation</td>\n",
       "      <td>21083385</td>\n",
       "      <td>Genotypes AA + AG are associated with response to ivacaftor in people with Cystic Fibrosis.</td>\n",
       "      <td>981755665</td>\n",
       "      <td>rs75527207</td>\n",
       "      <td>CFTR</td>\n",
       "      <td>ivacaftor</td>\n",
       "      <td>21083385</td>\n",
       "      <td>Efficacy</td>\n",
       "      <td>not stated</td>\n",
       "      <td>Clinical trials were carried out to test efficacy of ivacaftor selecting only patients with the CFTR G551D mutation on at least one allele (genotype AA or AG).</td>\n",
       "      <td>Genotypes AA + AG are associated with response to ivacaftor in people with Cystic Fibrosis.</td>\n",
       "      <td>AA + AG</td>\n",
       "      <td>NaN</td>\n",
       "      <td>NaN</td>\n",
       "      <td>Are</td>\n",
       "      <td>Associated with</td>\n",
       "      <td>NaN</td>\n",
       "      <td>response to</td>\n",
       "      <td>NaN</td>\n",
       "      <td>in people with</td>\n",
       "      <td>Disease:Cystic Fibrosis</td>\n",
       "      <td>NaN</td>\n",
       "      <td>NaN</td>\n",
       "      <td>NaN</td>\n",
       "    </tr>\n",
       "  </tbody>\n",
       "</table>\n",
       "</div>"
      ],
      "text/plain": [
       "  Clinical Annotation ID Variant/Haplotypes  Gene Level of Evidence  \\\n",
       "0              981755803         rs75527207  CFTR                1A   \n",
       "\n",
       "  Phenotype Category    Drug(s)     Phenotype(s) Evidence ID  \\\n",
       "0           Efficacy  ivacaftor  Cystic Fibrosis   981755665   \n",
       "\n",
       "             Evidence Type      PMID  \\\n",
       "0  Variant Drug Annotation  21083385   \n",
       "\n",
       "                                                                                       Summary  \\\n",
       "0  Genotypes AA + AG are associated with response to ivacaftor in people with Cystic Fibrosis.   \n",
       "\n",
       "  Variant Annotation ID Variant/Haplotypes_var_drug Gene_var_drug  \\\n",
       "0             981755665                  rs75527207          CFTR   \n",
       "\n",
       "  Drug(s)_var_drug PMID_var_drug Phenotype Category_var_drug Significance  \\\n",
       "0        ivacaftor      21083385                    Efficacy   not stated   \n",
       "\n",
       "                                                                                                                                                             Notes  \\\n",
       "0  Clinical trials were carried out to test efficacy of ivacaftor selecting only patients with the CFTR G551D mutation on at least one allele (genotype AA or AG).   \n",
       "\n",
       "                                                                                      Sentence  \\\n",
       "0  Genotypes AA + AG are associated with response to ivacaftor in people with Cystic Fibrosis.   \n",
       "\n",
       "   Alleles Specialty Population Metabolizer types isPlural  \\\n",
       "0  AA + AG                  NaN               NaN      Are   \n",
       "\n",
       "  Is/Is Not associated Direction of effect  PD/PK terms Multiple drugs And/or  \\\n",
       "0      Associated with                 NaN  response to                   NaN   \n",
       "\n",
       "  Population types Population Phenotypes or diseases  \\\n",
       "0   in people with           Disease:Cystic Fibrosis   \n",
       "\n",
       "  Multiple phenotypes or diseases And/or Comparison Allele(s) or Genotype(s)  \\\n",
       "0                                    NaN                                 NaN   \n",
       "\n",
       "  Comparison Metabolizer types  \n",
       "0                          NaN  "
      ]
     },
     "execution_count": 206,
     "metadata": {},
     "output_type": "execute_result"
    }
   ],
   "source": [
    "df_981755803_drug.head(1)"
   ]
  },
  {
   "cell_type": "code",
   "execution_count": 138,
   "id": "86225d03-93ea-4d22-8569-0bb1360f4d66",
   "metadata": {},
   "outputs": [
    {
     "data": {
      "text/html": [
       "<div>\n",
       "<style scoped>\n",
       "    .dataframe tbody tr th:only-of-type {\n",
       "        vertical-align: middle;\n",
       "    }\n",
       "\n",
       "    .dataframe tbody tr th {\n",
       "        vertical-align: top;\n",
       "    }\n",
       "\n",
       "    .dataframe thead th {\n",
       "        text-align: right;\n",
       "    }\n",
       "</style>\n",
       "<table border=\"1\" class=\"dataframe\">\n",
       "  <thead>\n",
       "    <tr style=\"text-align: right;\">\n",
       "      <th></th>\n",
       "      <th>Clinical Annotation ID</th>\n",
       "      <th>Variant/Haplotypes</th>\n",
       "      <th>Gene</th>\n",
       "      <th>Level of Evidence</th>\n",
       "      <th>Phenotype Category</th>\n",
       "      <th>Drug(s)</th>\n",
       "      <th>Phenotype(s)</th>\n",
       "      <th>Evidence ID</th>\n",
       "      <th>Evidence Type</th>\n",
       "      <th>PMID</th>\n",
       "      <th>Summary</th>\n",
       "      <th>Variant Annotation ID</th>\n",
       "      <th>Variant/Haplotypes_var_fa</th>\n",
       "      <th>Gene_var_fa</th>\n",
       "      <th>Drug(s)_var_fa</th>\n",
       "      <th>PMID_var_fa</th>\n",
       "      <th>Phenotype Category_var_fa</th>\n",
       "      <th>Significance</th>\n",
       "      <th>Notes</th>\n",
       "      <th>Sentence</th>\n",
       "      <th>Alleles</th>\n",
       "      <th>Specialty Population</th>\n",
       "      <th>Assay type</th>\n",
       "      <th>Metabolizer types</th>\n",
       "      <th>isPlural</th>\n",
       "      <th>Is/Is Not associated</th>\n",
       "      <th>Direction of effect</th>\n",
       "      <th>Functional terms</th>\n",
       "      <th>Gene/gene product</th>\n",
       "      <th>When treated with/exposed to/when assayed with</th>\n",
       "      <th>Multiple drugs And/or</th>\n",
       "      <th>Cell type</th>\n",
       "      <th>Comparison Allele(s) or Genotype(s)</th>\n",
       "      <th>Comparison Metabolizer types</th>\n",
       "    </tr>\n",
       "  </thead>\n",
       "  <tbody>\n",
       "    <tr>\n",
       "      <th>0</th>\n",
       "      <td>981755803</td>\n",
       "      <td>rs75527207</td>\n",
       "      <td>CFTR</td>\n",
       "      <td>1A</td>\n",
       "      <td>Efficacy</td>\n",
       "      <td>ivacaftor</td>\n",
       "      <td>Cystic Fibrosis</td>\n",
       "      <td>1043737620</td>\n",
       "      <td>Variant Functional Assay Annotation</td>\n",
       "      <td>23757361</td>\n",
       "      <td>Allele A is associated with increased activity of CFTR when treated with ivacaftor in transfected CHO cells.</td>\n",
       "      <td>1043737620</td>\n",
       "      <td>rs75527207</td>\n",
       "      <td>CFTR</td>\n",
       "      <td>ivacaftor</td>\n",
       "      <td>23757361</td>\n",
       "      <td>Efficacy</td>\n",
       "      <td>yes</td>\n",
       "      <td>compared to no treatment. Ivacaftor stimulated CFTR activity in CFTR-G551D expressing CHO cells (as measured by iodine efflux).</td>\n",
       "      <td>Allele A is associated with increased activity of CFTR when treated with ivacaftor in transfected CHO cells.</td>\n",
       "      <td>A</td>\n",
       "      <td>NaN</td>\n",
       "      <td>NaN</td>\n",
       "      <td>NaN</td>\n",
       "      <td>Is</td>\n",
       "      <td>Associated with</td>\n",
       "      <td>increased</td>\n",
       "      <td>activity of</td>\n",
       "      <td>CFTR</td>\n",
       "      <td>when treated with</td>\n",
       "      <td>NaN</td>\n",
       "      <td>in transfected CHO cells</td>\n",
       "      <td>NaN</td>\n",
       "      <td>NaN</td>\n",
       "    </tr>\n",
       "    <tr>\n",
       "      <th>1</th>\n",
       "      <td>981755803</td>\n",
       "      <td>rs75527207</td>\n",
       "      <td>CFTR</td>\n",
       "      <td>1A</td>\n",
       "      <td>Efficacy</td>\n",
       "      <td>ivacaftor</td>\n",
       "      <td>Cystic Fibrosis</td>\n",
       "      <td>1043737636</td>\n",
       "      <td>Variant Functional Assay Annotation</td>\n",
       "      <td>23891399</td>\n",
       "      <td>Allele A is associated with activity of CFTR when treated with ivacaftor in FRT cell lines.</td>\n",
       "      <td>1043737636</td>\n",
       "      <td>rs75527207</td>\n",
       "      <td>CFTR</td>\n",
       "      <td>ivacaftor</td>\n",
       "      <td>23891399</td>\n",
       "      <td>Efficacy</td>\n",
       "      <td>yes</td>\n",
       "      <td>G551D allele. 55.3 fold increase in chloride transport upon ivacaftor treatment as compared to baseline (no ivacaftor treatment).</td>\n",
       "      <td>Allele A is associated with activity of CFTR when treated with ivacaftor in FRT cell lines.</td>\n",
       "      <td>A</td>\n",
       "      <td>NaN</td>\n",
       "      <td>NaN</td>\n",
       "      <td>NaN</td>\n",
       "      <td>Is</td>\n",
       "      <td>Associated with</td>\n",
       "      <td>NaN</td>\n",
       "      <td>activity of</td>\n",
       "      <td>CFTR</td>\n",
       "      <td>when treated with</td>\n",
       "      <td>NaN</td>\n",
       "      <td>in FRT cell lines</td>\n",
       "      <td>NaN</td>\n",
       "      <td>NaN</td>\n",
       "    </tr>\n",
       "  </tbody>\n",
       "</table>\n",
       "</div>"
      ],
      "text/plain": [
       "  Clinical Annotation ID Variant/Haplotypes  Gene Level of Evidence  \\\n",
       "0              981755803         rs75527207  CFTR                1A   \n",
       "1              981755803         rs75527207  CFTR                1A   \n",
       "\n",
       "  Phenotype Category    Drug(s)     Phenotype(s) Evidence ID  \\\n",
       "0           Efficacy  ivacaftor  Cystic Fibrosis  1043737620   \n",
       "1           Efficacy  ivacaftor  Cystic Fibrosis  1043737636   \n",
       "\n",
       "                         Evidence Type      PMID  \\\n",
       "0  Variant Functional Assay Annotation  23757361   \n",
       "1  Variant Functional Assay Annotation  23891399   \n",
       "\n",
       "                                                                                                        Summary  \\\n",
       "0  Allele A is associated with increased activity of CFTR when treated with ivacaftor in transfected CHO cells.   \n",
       "1                   Allele A is associated with activity of CFTR when treated with ivacaftor in FRT cell lines.   \n",
       "\n",
       "  Variant Annotation ID Variant/Haplotypes_var_fa Gene_var_fa Drug(s)_var_fa  \\\n",
       "0            1043737620                rs75527207        CFTR      ivacaftor   \n",
       "1            1043737636                rs75527207        CFTR      ivacaftor   \n",
       "\n",
       "  PMID_var_fa Phenotype Category_var_fa Significance  \\\n",
       "0    23757361                  Efficacy          yes   \n",
       "1    23891399                  Efficacy          yes   \n",
       "\n",
       "                                                                                                                               Notes  \\\n",
       "0    compared to no treatment. Ivacaftor stimulated CFTR activity in CFTR-G551D expressing CHO cells (as measured by iodine efflux).   \n",
       "1  G551D allele. 55.3 fold increase in chloride transport upon ivacaftor treatment as compared to baseline (no ivacaftor treatment).   \n",
       "\n",
       "                                                                                                       Sentence  \\\n",
       "0  Allele A is associated with increased activity of CFTR when treated with ivacaftor in transfected CHO cells.   \n",
       "1                   Allele A is associated with activity of CFTR when treated with ivacaftor in FRT cell lines.   \n",
       "\n",
       "  Alleles Specialty Population Assay type Metabolizer types isPlural  \\\n",
       "0       A                  NaN        NaN               NaN       Is   \n",
       "1       A                  NaN        NaN               NaN       Is   \n",
       "\n",
       "  Is/Is Not associated Direction of effect Functional terms Gene/gene product  \\\n",
       "0      Associated with           increased      activity of              CFTR   \n",
       "1      Associated with                 NaN      activity of              CFTR   \n",
       "\n",
       "  When treated with/exposed to/when assayed with Multiple drugs And/or  \\\n",
       "0                              when treated with                   NaN   \n",
       "1                              when treated with                   NaN   \n",
       "\n",
       "                  Cell type Comparison Allele(s) or Genotype(s)  \\\n",
       "0  in transfected CHO cells                                 NaN   \n",
       "1         in FRT cell lines                                 NaN   \n",
       "\n",
       "  Comparison Metabolizer types  \n",
       "0                          NaN  \n",
       "1                          NaN  "
      ]
     },
     "execution_count": 138,
     "metadata": {},
     "output_type": "execute_result"
    }
   ],
   "source": [
    "df_981755803_fa"
   ]
  },
  {
   "cell_type": "code",
   "execution_count": 94,
   "id": "49c52d4d-8c99-4788-a922-310ac566b4f6",
   "metadata": {},
   "outputs": [
    {
     "data": {
      "text/html": [
       "<div>\n",
       "<style scoped>\n",
       "    .dataframe tbody tr th:only-of-type {\n",
       "        vertical-align: middle;\n",
       "    }\n",
       "\n",
       "    .dataframe tbody tr th {\n",
       "        vertical-align: top;\n",
       "    }\n",
       "\n",
       "    .dataframe thead th {\n",
       "        text-align: right;\n",
       "    }\n",
       "</style>\n",
       "<table border=\"1\" class=\"dataframe\">\n",
       "  <thead>\n",
       "    <tr style=\"text-align: right;\">\n",
       "      <th></th>\n",
       "      <th>Clinical Annotation ID</th>\n",
       "      <th>Variant/Haplotypes</th>\n",
       "      <th>Gene</th>\n",
       "      <th>Level of Evidence</th>\n",
       "      <th>Phenotype Category</th>\n",
       "      <th>Drug(s)</th>\n",
       "      <th>Phenotype(s)</th>\n",
       "      <th>Evidence ID</th>\n",
       "      <th>Evidence Type</th>\n",
       "      <th>PMID</th>\n",
       "      <th>Summary</th>\n",
       "      <th>Variant Annotation ID</th>\n",
       "      <th>Variant/Haplotypes_var_pheno</th>\n",
       "      <th>Gene_var_pheno</th>\n",
       "      <th>Drug(s)_var_pheno</th>\n",
       "      <th>PMID_var_pheno</th>\n",
       "      <th>Phenotype Category_var_pheno</th>\n",
       "      <th>Significance</th>\n",
       "      <th>Notes</th>\n",
       "      <th>Sentence</th>\n",
       "      <th>Alleles</th>\n",
       "      <th>Specialty Population</th>\n",
       "      <th>Metabolizer types</th>\n",
       "      <th>isPlural</th>\n",
       "      <th>Is/Is Not associated</th>\n",
       "      <th>Direction of effect</th>\n",
       "      <th>Side effect/efficacy/other</th>\n",
       "      <th>Phenotype</th>\n",
       "      <th>Multiple phenotypes And/or</th>\n",
       "      <th>When treated with/exposed to/when assayed with</th>\n",
       "      <th>Multiple drugs And/or</th>\n",
       "      <th>Population types</th>\n",
       "      <th>Population Phenotypes or diseases</th>\n",
       "      <th>Multiple phenotypes or diseases And/or</th>\n",
       "      <th>Comparison Allele(s) or Genotype(s)</th>\n",
       "      <th>Comparison Metabolizer types</th>\n",
       "    </tr>\n",
       "  </thead>\n",
       "  <tbody>\n",
       "    <tr>\n",
       "      <th>0</th>\n",
       "      <td>981755803</td>\n",
       "      <td>rs75527207</td>\n",
       "      <td>CFTR</td>\n",
       "      <td>1A</td>\n",
       "      <td>Efficacy</td>\n",
       "      <td>ivacaftor</td>\n",
       "      <td>Cystic Fibrosis</td>\n",
       "      <td>1448267532</td>\n",
       "      <td>Variant Phenotype Annotation</td>\n",
       "      <td>27745802</td>\n",
       "      <td>Genotypes AA + AG is associated with decreased severity of bone density when treated with ivacaftor in people with Cystic Fibrosis as compared to genotype GG.</td>\n",
       "      <td>1448267532</td>\n",
       "      <td>rs75527207</td>\n",
       "      <td>CFTR</td>\n",
       "      <td>ivacaftor</td>\n",
       "      <td>27745802</td>\n",
       "      <td>Efficacy</td>\n",
       "      <td>yes</td>\n",
       "      <td>Bone mineral density compared before and after 1 year of treatment with ivacaftor using dual energy X-ray absorptiometry at the L2-L4 lumbar spine. All patients were pancreatic insufficient.</td>\n",
       "      <td>Genotypes AA + AG is associated with decreased severity of bone density when treated with ivacaftor in people with Cystic Fibrosis as compared to genotype GG.</td>\n",
       "      <td>AA + AG</td>\n",
       "      <td>NaN</td>\n",
       "      <td>NaN</td>\n",
       "      <td>Is</td>\n",
       "      <td>Associated with</td>\n",
       "      <td>decreased</td>\n",
       "      <td>severity of</td>\n",
       "      <td>Side Effect:bone density</td>\n",
       "      <td>and</td>\n",
       "      <td>when treated with</td>\n",
       "      <td>NaN</td>\n",
       "      <td>in people with</td>\n",
       "      <td>Disease:Cystic Fibrosis</td>\n",
       "      <td>NaN</td>\n",
       "      <td>GG</td>\n",
       "      <td>NaN</td>\n",
       "    </tr>\n",
       "    <tr>\n",
       "      <th>1</th>\n",
       "      <td>981755803</td>\n",
       "      <td>rs75527207</td>\n",
       "      <td>CFTR</td>\n",
       "      <td>1A</td>\n",
       "      <td>Efficacy</td>\n",
       "      <td>ivacaftor</td>\n",
       "      <td>Cystic Fibrosis</td>\n",
       "      <td>1449192031</td>\n",
       "      <td>Variant Phenotype Annotation</td>\n",
       "      <td>28651844</td>\n",
       "      <td>Allele A is associated with decreased likelihood of cystic fibrosis pulmonary exacerbation when treated with ivacaftor in people with Cystic Fibrosis.</td>\n",
       "      <td>1449192031</td>\n",
       "      <td>rs75527207</td>\n",
       "      <td>CFTR</td>\n",
       "      <td>ivacaftor</td>\n",
       "      <td>28651844</td>\n",
       "      <td>Efficacy</td>\n",
       "      <td>yes</td>\n",
       "      <td>G551D allele. Patients receiving ivacaftor treatment had a reduced rate of pulmonary exacerbation events compared to patients receiving a placebo.</td>\n",
       "      <td>Allele A is associated with decreased likelihood of cystic fibrosis pulmonary exacerbation when treated with ivacaftor in people with Cystic Fibrosis.</td>\n",
       "      <td>A</td>\n",
       "      <td>Pediatric</td>\n",
       "      <td>NaN</td>\n",
       "      <td>Is</td>\n",
       "      <td>Associated with</td>\n",
       "      <td>decreased</td>\n",
       "      <td>likelihood of</td>\n",
       "      <td>Disease:cystic fibrosis pulmonary exacerbation</td>\n",
       "      <td>and</td>\n",
       "      <td>when treated with</td>\n",
       "      <td>NaN</td>\n",
       "      <td>in people with</td>\n",
       "      <td>Disease:Cystic Fibrosis</td>\n",
       "      <td>NaN</td>\n",
       "      <td>NaN</td>\n",
       "      <td>NaN</td>\n",
       "    </tr>\n",
       "  </tbody>\n",
       "</table>\n",
       "</div>"
      ],
      "text/plain": [
       "  Clinical Annotation ID Variant/Haplotypes  Gene Level of Evidence  \\\n",
       "0              981755803         rs75527207  CFTR                1A   \n",
       "1              981755803         rs75527207  CFTR                1A   \n",
       "\n",
       "  Phenotype Category    Drug(s)     Phenotype(s) Evidence ID  \\\n",
       "0           Efficacy  ivacaftor  Cystic Fibrosis  1448267532   \n",
       "1           Efficacy  ivacaftor  Cystic Fibrosis  1449192031   \n",
       "\n",
       "                  Evidence Type      PMID  \\\n",
       "0  Variant Phenotype Annotation  27745802   \n",
       "1  Variant Phenotype Annotation  28651844   \n",
       "\n",
       "                                                                                                                                                          Summary  \\\n",
       "0  Genotypes AA + AG is associated with decreased severity of bone density when treated with ivacaftor in people with Cystic Fibrosis as compared to genotype GG.   \n",
       "1          Allele A is associated with decreased likelihood of cystic fibrosis pulmonary exacerbation when treated with ivacaftor in people with Cystic Fibrosis.   \n",
       "\n",
       "  Variant Annotation ID Variant/Haplotypes_var_pheno Gene_var_pheno  \\\n",
       "0            1448267532                   rs75527207           CFTR   \n",
       "1            1449192031                   rs75527207           CFTR   \n",
       "\n",
       "  Drug(s)_var_pheno PMID_var_pheno Phenotype Category_var_pheno Significance  \\\n",
       "0         ivacaftor       27745802                     Efficacy          yes   \n",
       "1         ivacaftor       28651844                     Efficacy          yes   \n",
       "\n",
       "                                                                                                                                                                                            Notes  \\\n",
       "0  Bone mineral density compared before and after 1 year of treatment with ivacaftor using dual energy X-ray absorptiometry at the L2-L4 lumbar spine. All patients were pancreatic insufficient.   \n",
       "1                                              G551D allele. Patients receiving ivacaftor treatment had a reduced rate of pulmonary exacerbation events compared to patients receiving a placebo.   \n",
       "\n",
       "                                                                                                                                                         Sentence  \\\n",
       "0  Genotypes AA + AG is associated with decreased severity of bone density when treated with ivacaftor in people with Cystic Fibrosis as compared to genotype GG.   \n",
       "1          Allele A is associated with decreased likelihood of cystic fibrosis pulmonary exacerbation when treated with ivacaftor in people with Cystic Fibrosis.   \n",
       "\n",
       "   Alleles Specialty Population Metabolizer types isPlural  \\\n",
       "0  AA + AG                  NaN               NaN       Is   \n",
       "1        A            Pediatric               NaN       Is   \n",
       "\n",
       "  Is/Is Not associated Direction of effect Side effect/efficacy/other  \\\n",
       "0      Associated with           decreased                severity of   \n",
       "1      Associated with           decreased              likelihood of   \n",
       "\n",
       "                                        Phenotype Multiple phenotypes And/or  \\\n",
       "0                        Side Effect:bone density                        and   \n",
       "1  Disease:cystic fibrosis pulmonary exacerbation                        and   \n",
       "\n",
       "  When treated with/exposed to/when assayed with Multiple drugs And/or  \\\n",
       "0                              when treated with                   NaN   \n",
       "1                              when treated with                   NaN   \n",
       "\n",
       "  Population types Population Phenotypes or diseases  \\\n",
       "0   in people with           Disease:Cystic Fibrosis   \n",
       "1   in people with           Disease:Cystic Fibrosis   \n",
       "\n",
       "  Multiple phenotypes or diseases And/or Comparison Allele(s) or Genotype(s)  \\\n",
       "0                                    NaN                                  GG   \n",
       "1                                    NaN                                 NaN   \n",
       "\n",
       "  Comparison Metabolizer types  \n",
       "0                          NaN  \n",
       "1                          NaN  "
      ]
     },
     "execution_count": 94,
     "metadata": {},
     "output_type": "execute_result"
    }
   ],
   "source": [
    "df_981755803_pheno"
   ]
  },
  {
   "cell_type": "code",
   "execution_count": 93,
   "id": "08abfc16-b970-4f45-96c1-5e1584ba9a0e",
   "metadata": {},
   "outputs": [
    {
     "data": {
      "text/plain": [
       "28"
      ]
     },
     "execution_count": 93,
     "metadata": {},
     "output_type": "execute_result"
    }
   ],
   "source": [
    "# Comparing number of PMIDs vs. number of evidence\n",
    "len(set(df_981755803_drug['PMID']) | set(df_981755803_pheno['PMID']) | set(df_981755803_fa['PMID']))"
   ]
  },
  {
   "cell_type": "markdown",
   "id": "e5d40be8-65a0-487b-a175-d98aa502aaeb",
   "metadata": {},
   "source": [
    "#### Observations so far\n",
    "Clinical annotation [981755803](https://www.pharmgkb.org/clinicalAnnotation/981755803) has 30 supporting evidence:\n",
    "* 24 variant/drug annotations\n",
    "* 2 variant/functional assay annotations\n",
    "* 2 variant/phenotype annotations\n",
    "* 2 others (drug labels & guidelines, present in another data download so not included here)\n",
    "\n",
    "Each variant annotation is associated with a PMID, these are 1:1.\n",
    "* We should think about whether we want to preserve the PMID & evidence associations.\n",
    "\n",
    "These annotations seem much more specific than the clinical annotations, e.g.\n",
    "* they distinguish between \"disease\" and \"side effect\" (check how often)\n",
    "* if there are multiple phenotypes or drugs, they specify whether these should be \"and\"s or \"or\"s\n",
    "\n",
    "These annotations are specific to one or more alleles or genotypes, so we will need to associate them accordingly.\n",
    "\n",
    "It would good if we could select the relevant columns from the 3 variant annotation tables and merge them into a unified representation, so we don't have to manage them separately in the pipelines or in the UI\n"
   ]
  },
  {
   "cell_type": "markdown",
   "id": "85e68502-9717-40bd-989a-e9aa7376879d",
   "metadata": {},
   "source": [
    "## Coverage\n",
    "\n",
    "[Top of page](#Table-of-contents)"
   ]
  },
  {
   "cell_type": "code",
   "execution_count": 97,
   "id": "57d1856b-6b82-4084-9def-5c95db9cdfef",
   "metadata": {},
   "outputs": [
    {
     "data": {
      "text/plain": [
       "5111"
      ]
     },
     "execution_count": 97,
     "metadata": {},
     "output_type": "execute_result"
    }
   ],
   "source": [
    "len(clinical_annotations)"
   ]
  },
  {
   "cell_type": "code",
   "execution_count": 129,
   "id": "23b76684-1ceb-4dd5-b95a-931a57fbcafc",
   "metadata": {},
   "outputs": [
    {
     "data": {
      "text/plain": [
       "15129"
      ]
     },
     "execution_count": 129,
     "metadata": {},
     "output_type": "execute_result"
    }
   ],
   "source": [
    "# Exploded on evidence - average 3 per annotation\n",
    "len(main_df)"
   ]
  },
  {
   "cell_type": "code",
   "execution_count": 130,
   "id": "8d92bd51-114f-4b9f-961e-3afcc9084560",
   "metadata": {},
   "outputs": [],
   "source": [
    "# Add all the var annotation tables - this will be a huge mess\n",
    "main_with_var = pd.merge(main_df, var_drug_ann, left_on='Evidence ID', right_on='Variant Annotation ID', how='left', suffixes=(None, '_var_drug'))\n",
    "main_with_var = pd.merge(main_with_var, var_pheno_ann, left_on='Evidence ID', right_on='Variant Annotation ID', how='left', suffixes=(None, '_var_pheno'))\n",
    "main_with_var = pd.merge(main_with_var, var_fa_ann, left_on='Evidence ID', right_on='Variant Annotation ID', how='left', suffixes=(None, '_var_fa'))"
   ]
  },
  {
   "cell_type": "code",
   "execution_count": 144,
   "id": "67228cc8-68e9-4265-997d-047a31458c7d",
   "metadata": {},
   "outputs": [],
   "source": [
    "ca_with_var_evidence = set(main_with_var[main_with_var['Sentence'].notna() | main_with_var['Sentence_var_pheno'].notna() | main_with_var['Sentence_var_fa'].notna()][ID_COL_NAME])"
   ]
  },
  {
   "cell_type": "code",
   "execution_count": 147,
   "id": "84438d2c-21c2-4411-bbda-742a2f3e94da",
   "metadata": {},
   "outputs": [
    {
     "data": {
      "text/plain": [
       "5111"
      ]
     },
     "execution_count": 147,
     "metadata": {},
     "output_type": "execute_result"
    }
   ],
   "source": [
    "# Every clinical annotation has at least one variant annotation as supporting evidence\n",
    "len(ca_with_var_evidence)"
   ]
  },
  {
   "cell_type": "code",
   "execution_count": 205,
   "id": "3dee0e63-6bfa-4c59-9838-cc129e4aacad",
   "metadata": {},
   "outputs": [
    {
     "name": "stdout",
     "output_type": "stream",
     "text": [
      "Evidence from var/drug 2435\n",
      "Evidence from var/pheno 2958\n",
      "Evidence from var/fa 418\n"
     ]
    }
   ],
   "source": [
    "print('Evidence from var/drug', len(set(main_with_var[main_with_var['Sentence'].notna()][ID_COL_NAME])))\n",
    "print('Evidence from var/pheno', len(set(main_with_var[main_with_var['Sentence_var_pheno'].notna()][ID_COL_NAME])))\n",
    "print('Evidence from var/fa', len(set(main_with_var[main_with_var['Sentence_var_fa'].notna()][ID_COL_NAME])))"
   ]
  },
  {
   "cell_type": "code",
   "execution_count": 148,
   "id": "a9814220-d767-4e1e-b3ca-ea27b61a5777",
   "metadata": {},
   "outputs": [],
   "source": [
    "ca_with_doe_evidence = set(main_with_var[main_with_var['Direction of effect'].notna() | main_with_var['Direction of effect_var_pheno'].notna() | main_with_var['Direction of effect_var_fa'].notna()][ID_COL_NAME])"
   ]
  },
  {
   "cell_type": "code",
   "execution_count": 149,
   "id": "3be7753e-902e-47ec-985e-e2b08f70158d",
   "metadata": {},
   "outputs": [
    {
     "data": {
      "text/plain": [
       "4917"
      ]
     },
     "execution_count": 149,
     "metadata": {},
     "output_type": "execute_result"
    }
   ],
   "source": [
    "# Most contain some kind of direction of effect info\n",
    "len(ca_with_doe_evidence)"
   ]
  },
  {
   "cell_type": "code",
   "execution_count": 196,
   "id": "38006cda-cedf-44d2-9d72-50ec1baf922e",
   "metadata": {},
   "outputs": [],
   "source": [
    "def main_with_var_where_notna(common_col_name):\n",
    "    # Filter main_with_var on non-na columns that are common to all three variant annotation tables\n",
    "    return main_with_var[\n",
    "        main_with_var[common_col_name].notna()\n",
    "        | main_with_var[f'{common_col_name}_var_pheno'].notna()\n",
    "        | main_with_var[f'{common_col_name}_var_fa'].notna()\n",
    "    ]"
   ]
  },
  {
   "cell_type": "code",
   "execution_count": 197,
   "id": "3bea97eb-cbaa-4cc6-873a-33f240140d60",
   "metadata": {},
   "outputs": [],
   "source": [
    "def main_with_var_values_in(common_col_name):\n",
    "    # Return set of values in given column, common to all three variant annotation tables\n",
    "    return (\n",
    "        set(main_with_var[common_col_name]) \n",
    "        | set(main_with_var[f'{common_col_name}_var_pheno']) \n",
    "        | set(main_with_var[f'{common_col_name}_var_fa'])\n",
    "    )"
   ]
  },
  {
   "cell_type": "code",
   "execution_count": 198,
   "id": "05435327-2590-4018-abdd-e3afe14632a4",
   "metadata": {},
   "outputs": [
    {
     "name": "stdout",
     "output_type": "stream",
     "text": [
      "Total 15129\n",
      "With variant annotation 14658\n",
      "With allele 14248\n",
      "With comparison allele 12464\n"
     ]
    }
   ],
   "source": [
    "print('Total', len(main_with_var))  # i.e. clinical annotations exploded by evidence id\n",
    "print('With variant annotation', len(main_with_var_where_notna('Variant Annotation ID')))\n",
    "print('With allele', len(main_with_var_where_notna('Alleles')))\n",
    "print('With comparison allele', len(main_with_var_where_notna('Comparison Allele(s) or Genotype(s)')))"
   ]
  },
  {
   "cell_type": "code",
   "execution_count": 199,
   "id": "712f2365-fb6a-4c12-b73f-167756358e48",
   "metadata": {},
   "outputs": [
    {
     "data": {
      "text/plain": [
       "27427"
      ]
     },
     "execution_count": 199,
     "metadata": {},
     "output_type": "execute_result"
    }
   ],
   "source": [
    "# Suddenly worried about counts\n",
    "# All variant annotation IDs in all three tables\n",
    "len(set(var_drug_ann['Variant Annotation ID']) | set(var_fa_ann['Variant Annotation ID']) | set(var_pheno_ann['Variant Annotation ID']))"
   ]
  },
  {
   "cell_type": "code",
   "execution_count": 200,
   "id": "fbae3775-37f2-42e2-a639-5596bfab2dad",
   "metadata": {},
   "outputs": [
    {
     "data": {
      "text/plain": [
       "13783"
      ]
     },
     "execution_count": 200,
     "metadata": {},
     "output_type": "execute_result"
    }
   ],
   "source": [
    "# All evidence IDs - includes variant annotations and drug labels\n",
    "len(set(main_df['Evidence ID']))"
   ]
  },
  {
   "cell_type": "code",
   "execution_count": 180,
   "id": "b55fcd03-ab2d-4cc4-8c84-4c8100abc2ee",
   "metadata": {},
   "outputs": [
    {
     "data": {
      "text/plain": [
       "13778"
      ]
     },
     "execution_count": 180,
     "metadata": {},
     "output_type": "execute_result"
    }
   ],
   "source": [
    "all_var_ann_ids = set(var_drug_ann['Variant Annotation ID']) | set(var_fa_ann['Variant Annotation ID']) | set(var_pheno_ann['Variant Annotation ID'])\n",
    "all_ev_ids = set(main_df['Evidence ID'])\n",
    "\n",
    "# Not all variant annotation evidence is used\n",
    "len(all_var_ann_ids - all_ev_ids)"
   ]
  },
  {
   "cell_type": "markdown",
   "id": "98c401bc-d920-405f-90a1-93016c7ed9ae",
   "metadata": {},
   "source": [
    "#### Observations so far:\n",
    "* Every clinical annotation has at least one variant annotation as supporting evidence\n",
    "* Most contain some kind of direction of effect info (i.e. in one of the three tables)\n",
    "   * => coverage is good, assuming we care about all three types of effects\n",
    "* Selecting one table covers at most about half of the clinical annotations\n",
    "* Not all variant annotation evidence is included in a clinical annotation"
   ]
  },
  {
   "cell_type": "markdown",
   "id": "dc4b1bfd-a8ab-4215-832d-5a6aa177470c",
   "metadata": {},
   "source": [
    "## Direction of effect\n",
    "\n",
    "[Top of page](#Table-of-contents)"
   ]
  },
  {
   "cell_type": "code",
   "execution_count": null,
   "id": "01ff8ed9-bdc2-454e-9a68-c9530b9f5de8",
   "metadata": {},
   "outputs": [],
   "source": [
    "# Trying to make sense of the columns - output suppressed for brevity\n",
    "main_with_var.columns"
   ]
  },
  {
   "cell_type": "code",
   "execution_count": 133,
   "id": "126d1762-ae36-4003-989d-c28d96b78e12",
   "metadata": {},
   "outputs": [],
   "source": [
    "all_var_ann_cols = set(var_drug_ann.columns) | set(var_fa_ann.columns) | set(var_pheno_ann.columns)\n",
    "common_var_ann_cols = set(var_drug_ann.columns) & set(var_fa_ann.columns) & set(var_pheno_ann.columns)"
   ]
  },
  {
   "cell_type": "code",
   "execution_count": 134,
   "id": "86c927dd-2dfc-4957-9afb-50eb7334d213",
   "metadata": {},
   "outputs": [
    {
     "data": {
      "text/plain": [
       "{'Alleles',\n",
       " 'Comparison Allele(s) or Genotype(s)',\n",
       " 'Comparison Metabolizer types',\n",
       " 'Direction of effect',\n",
       " 'Drug(s)',\n",
       " 'Gene',\n",
       " 'Is/Is Not associated',\n",
       " 'Metabolizer types',\n",
       " 'Multiple drugs And/or',\n",
       " 'Notes',\n",
       " 'PMID',\n",
       " 'Phenotype Category',\n",
       " 'Sentence',\n",
       " 'Significance',\n",
       " 'Specialty Population',\n",
       " 'Variant Annotation ID',\n",
       " 'Variant/Haplotypes',\n",
       " 'isPlural'}"
      ]
     },
     "execution_count": 134,
     "metadata": {},
     "output_type": "execute_result"
    }
   ],
   "source": [
    "common_var_ann_cols"
   ]
  },
  {
   "cell_type": "code",
   "execution_count": 135,
   "id": "44b41088-2162-4138-a719-1de7e4c3c156",
   "metadata": {},
   "outputs": [],
   "source": [
    "unique_var_ann_cols = all_var_ann_cols - common_var_ann_cols"
   ]
  },
  {
   "cell_type": "code",
   "execution_count": 136,
   "id": "4f19f44b-d472-4b1b-ae13-1faa8a3ea5b9",
   "metadata": {},
   "outputs": [],
   "source": [
    "# annotate with origin table\n",
    "annotated_unique_var_ann_cols = {'drug':[], 'fa':[], 'pheno':[]}\n",
    "for c in unique_var_ann_cols:\n",
    "    if c in var_drug_ann.columns:\n",
    "        annotated_unique_var_ann_cols['drug'].append(c)\n",
    "    if c in var_fa_ann.columns:\n",
    "        annotated_unique_var_ann_cols['fa'].append(c)\n",
    "    if c in var_pheno_ann.columns:\n",
    "        annotated_unique_var_ann_cols['pheno'].append(c)"
   ]
  },
  {
   "cell_type": "code",
   "execution_count": 137,
   "id": "888398bc-00ce-45bd-af1b-0053c47ba3c3",
   "metadata": {},
   "outputs": [
    {
     "data": {
      "text/plain": [
       "{'drug': ['Multiple phenotypes or diseases And/or',\n",
       "  'Population types',\n",
       "  'Population Phenotypes or diseases',\n",
       "  'PD/PK terms'],\n",
       " 'fa': ['Cell type',\n",
       "  'Functional terms',\n",
       "  'When treated with/exposed to/when assayed with',\n",
       "  'Gene/gene product',\n",
       "  'Assay type'],\n",
       " 'pheno': ['Multiple phenotypes or diseases And/or',\n",
       "  'Side effect/efficacy/other',\n",
       "  'Multiple phenotypes And/or',\n",
       "  'When treated with/exposed to/when assayed with',\n",
       "  'Population types',\n",
       "  'Population Phenotypes or diseases',\n",
       "  'Phenotype']}"
      ]
     },
     "execution_count": 137,
     "metadata": {},
     "output_type": "execute_result"
    }
   ],
   "source": [
    "annotated_unique_var_ann_cols"
   ]
  },
  {
   "cell_type": "markdown",
   "id": "0a3b9cbd-c13e-4e98-831a-aa508fc69d10",
   "metadata": {},
   "source": [
    "#### Sentence analysis\n",
    "\n",
    "* Population phenotype always goes with \"multiple phenotypes and/or\" (note functional assay doesn't mention phenotype - I guess there's no multiples in the gene product?)\n",
    "    * where does the main table phenotype come from? OT is overwriting this now but I'm still confused\n",
    "* Drug (main table) always goes with \"multiple drugs and/or\"\n",
    "* Comparison alleles in theory I guess tells us something about the reference or baseline, not always present though\n",
    "\n",
    "Sentence examples:\n",
    "* **drug**: \"Genotypes AA + AG are associated with response to ivacaftor in people with Cystic Fibrosis.\"\n",
    "    * alleles = \"AA + AG\"\n",
    "    * direction of effect = [none]\n",
    "    * pd/pk term = \"response to\"\n",
    "    * drug = \"ivacaftor\"\n",
    "    * population types = \"people\"\n",
    "    * population phenotype = \"cystic fibrosis\"\n",
    "    * comparison alleles/genotypes = [none]\n",
    "* **fa**: \"Allele A is associated with increased activity of CFTR when treated with ivacaftor in transfected CHO cells.\"\n",
    "    * alleles = \"A\"\n",
    "    * direction of effect = \"increased\"\n",
    "    * functional term = \"activity of\"\n",
    "    * gene/gene product = \"CFTR\"\n",
    "    * when treated with/exposed to/assayed with = \"when treated with\"\n",
    "    * drug = \"ivacaftor\"\n",
    "    * cell type = \"transfected CHO cells\"\n",
    "    * comparison alleles/genotypes = [none]\n",
    "* **pheno**: \"Genotypes AA + AG is associated with decreased severity of bone density when treated with ivacaftor in people with Cystic Fibrosis as compared to genotype GG.\"\n",
    "    * alleles = \"AA + AG\"\n",
    "    * direction of effect = \"decreased\"\n",
    "    * side effect/efficacy/other = \"severity of\"\n",
    "    * phenotype = \"bone density\" **< note distinction between this and population phenotype**\n",
    "    * when treated with/exposed to/assayed with = \"when treated with\"\n",
    "    * drug = \"ivacaftor\"\n",
    "    * population types = \"people\"\n",
    "    * population phenotype = \"cystic fibrosis\"\n",
    "    * comparison alleles/genotypes = \"GG\"\n",
    "\n",
    "For the simplest direction of effect annotation (i.e. not including the population, cell type, etc.), I think we only strictly need the following:\n",
    "1. direction of effect\n",
    "2. pd/pk term | functional term | side effect/efficacy/other\n",
    "3. drug | gene/gene product | phenotype\n",
    "\n",
    "This tells us the direction (1) and what the effect is (2&3).\n",
    "Of course we also need the alleles to associate with the appropriate evidence string, maybe also the comparison alleles/genotypes when present, and the \"is/is not associated\" column so we don't report negative results (unless we want to).\n",
    "\n",
    "Maybe also just the origin of the evidence (variant/drug, variant/phenotype, or functional analysis) is useful."
   ]
  },
  {
   "cell_type": "code",
   "execution_count": 161,
   "id": "d5a77ac2-d058-426b-8d54-10aefd5023c3",
   "metadata": {},
   "outputs": [
    {
     "data": {
      "text/plain": [
       "{'decreased', 'increased', nan}"
      ]
     },
     "execution_count": 161,
     "metadata": {},
     "output_type": "execute_result"
    }
   ],
   "source": [
    "# Check some vocab \n",
    "# DoE fixed vocab according to readme\n",
    "set(main_with_var['Direction of effect']) | set(main_with_var['Direction of effect_var_pheno']) | set(main_with_var['Direction of effect_var_fa'])"
   ]
  },
  {
   "cell_type": "code",
   "execution_count": 158,
   "id": "faa11da3-07ad-4019-bfd7-589342c435aa",
   "metadata": {},
   "outputs": [
    {
     "data": {
      "text/plain": [
       "{'clearance of',\n",
       " 'clinical benefit to',\n",
       " 'concentrations of',\n",
       " 'discontinuation of',\n",
       " 'dose of',\n",
       " 'dose-adjusted trough concentrations of',\n",
       " 'exposure to',\n",
       " 'half-life time of',\n",
       " 'metabolism of',\n",
       " nan,\n",
       " 'resistance to',\n",
       " 'response to',\n",
       " 'steady-state concentration of',\n",
       " 'time to response to',\n",
       " 'trough concentration of'}"
      ]
     },
     "execution_count": 158,
     "metadata": {},
     "output_type": "execute_result"
    }
   ],
   "source": [
    "set(main_with_var['PD/PK terms'])  # not limited according to readme"
   ]
  },
  {
   "cell_type": "code",
   "execution_count": 159,
   "id": "61e8c91c-c963-4710-82f1-e6ec9f4c8def",
   "metadata": {},
   "outputs": [
    {
     "data": {
      "text/plain": [
       "{'activity of',\n",
       " 'affinity to',\n",
       " 'catalytic activity of',\n",
       " 'clearance of',\n",
       " 'concentrations of',\n",
       " 'enzyme activity of',\n",
       " 'expression of',\n",
       " 'formation of',\n",
       " 'glucuronidation of',\n",
       " 'half-life of',\n",
       " 'inhibition of',\n",
       " 'metabolism of',\n",
       " nan,\n",
       " 'protein stability of',\n",
       " 'sensitivity to',\n",
       " 'steady-state level of',\n",
       " 'sulfation of',\n",
       " 'transcription of',\n",
       " 'transport of',\n",
       " 'uptake of'}"
      ]
     },
     "execution_count": 159,
     "metadata": {},
     "output_type": "execute_result"
    }
   ],
   "source": [
    "set(main_with_var['Functional terms'])  # not limited"
   ]
  },
  {
   "cell_type": "code",
   "execution_count": 160,
   "id": "87c61724-3034-413f-b691-6ea8d475ae5d",
   "metadata": {},
   "outputs": [
    {
     "data": {
      "text/plain": [
       "{'age at onset of', 'likelihood of', nan, 'risk of', 'severity of'}"
      ]
     },
     "execution_count": 160,
     "metadata": {},
     "output_type": "execute_result"
    }
   ],
   "source": [
    "set(main_with_var['Side effect/efficacy/other'])  # limited"
   ]
  },
  {
   "cell_type": "markdown",
   "id": "da232356-d984-4e35-bbe3-e5811b68d172",
   "metadata": {},
   "source": [
    "Assume the final term (drug | gene/gene product | phenotype) will vary, but hopefully we can also map it to the relevant domain if needed (CHEMBL, EFO, Ensembl). Drugs & genes terms look about what you'd expect, as usual phenotype is the most diverse (see below; the readme explicitly states phenotype is not standardized).\n",
    "\n",
    "Otherwise this is a pretty small and consistent set of terms for ca. 15000 rows, though I don't think we can assume the vocab won't grow (except the actual direction word, we should be good there)."
   ]
  },
  {
   "cell_type": "code",
   "execution_count": 209,
   "id": "fb68e303-a627-418a-83d0-e1894a382e65",
   "metadata": {
    "scrolled": true
   },
   "outputs": [
    {
     "data": {
      "text/plain": [
       "[nan,\n",
       " 'PK:differences in exposure to the active metabolite of prasugrel',\n",
       " 'Disease:Endometrial Neoplasms',\n",
       " '\"Disease:Epidermal Necrolysis, Toxic\", \"Disease:Stevens-Johnson Syndrome\"',\n",
       " 'Side Effect:total hemorrhage and major hemorrhage',\n",
       " 'Other:subjective feelings of intoxication, stimulation, sedation, and happiness',\n",
       " 'PK:plasma oxymorphone/oxycodone ratio',\n",
       " 'Disease:Hematologic Diseases',\n",
       " 'Side Effect:Venous Thrombosis',\n",
       " 'Efficacy:non-remission',\n",
       " 'Side Effect:Leukopenia',\n",
       " 'Other:Drug Toxicity',\n",
       " 'PK:renal clearance and secretion clearance of metformin',\n",
       " 'PK:serum concentration',\n",
       " 'Disease:Hyperammonemia',\n",
       " 'Disease:Cough',\n",
       " 'Disease:Hepatitis, Toxic',\n",
       " 'Other:overanticoagulation',\n",
       " 'Side Effect:Anemia, Side Effect:Leukopenia, Side Effect:Neutropenia, Side Effect:Thrombocytopenia',\n",
       " 'PK:active moiety levels',\n",
       " 'PK:log metabolic ratio of amitriptyline/nortriptyline',\n",
       " 'Efficacy:maximum platelet aggregation (MPA) or the anti-platelet effect of clopidogrel in Chinese stroke patients',\n",
       " 'Side Effect:gastrointestinal bleeding',\n",
       " 'Other:dose decrease or drug switching',\n",
       " 'Side Effect:overall gastrointestinal toxicity',\n",
       " 'PK:midazolam metabolic ratios by 45%',\n",
       " 'Other:levels of IgG',\n",
       " 'Efficacy:platelet inhibition by aspirin',\n",
       " 'PK:oral clearance of citalopram',\n",
       " 'Side Effect:mortality',\n",
       " 'PK:S-CIT serum concentrations',\n",
       " 'Side Effect:a significantly higher odds of Musculoskeletal adverse events (MSAEs) in postmenopausal hormone receptor (HR)-positive breast cancer patients',\n",
       " 'Other:time to therapeutic inr',\n",
       " 'Side Effect:Myelosuppression',\n",
       " 'PK:mean plasma AUC',\n",
       " 'Disease:Hyperglycemia',\n",
       " 'PK:glucuronidation metabolic ratios',\n",
       " 'Efficacy:treatment success',\n",
       " 'Efficacy:percentage change in LDL-cholesterol levels',\n",
       " 'Efficacy:Death',\n",
       " 'Side Effect:erythema exudativum multiforme, Side Effect:Stevens-Johnson Syndrome',\n",
       " 'Side Effect:delayed graft function',\n",
       " 'Efficacy:low on-treatment platelet reactivity',\n",
       " 'Other:craving',\n",
       " 'Side Effect:intolerability',\n",
       " 'Side Effect:nausea/vomiting',\n",
       " 'Efficacy:the lipid-lowering efficacy of pravastatin',\n",
       " 'Side Effect:Death, Side Effect:Myocardial Infarction, Side Effect:Stroke',\n",
       " 'PK:amitriptyline + nortriptyline plasma concentration in one CYP2D6 PM',\n",
       " 'Efficacy:changes in FEV1',\n",
       " 'Side Effect:cardiovascular adverse reactions',\n",
       " 'Efficacy:over-anticoagulation',\n",
       " 'PK:DPD activity',\n",
       " 'PK:pharmacokinetics of flecainide in healthy Chinese subjects',\n",
       " 'Efficacy:reduction in luminal diameter',\n",
       " 'Efficacy:differences in in mean proportional HDRS17 decrease (response)',\n",
       " 'PK:serum tolterodine concentrations',\n",
       " 'PK:inhibitory concentration 50',\n",
       " 'Efficacy:prognosis',\n",
       " 'Side Effect:myelosuppression or any other side effect',\n",
       " 'PK:metabolic ratio',\n",
       " 'Efficacy:platelet aggregation values',\n",
       " 'Efficacy:efficacy',\n",
       " 'Efficacy:HAM-D score changes in fluvoxamine-treated patients compared to paroxetine-treated patients',\n",
       " 'PK:the mean maximal elimination rates (V(max))',\n",
       " 'PK:IC50',\n",
       " 'PK:plasma nortriptyline',\n",
       " 'Other:abstinence',\n",
       " 'Disease:Acute coronary syndrome',\n",
       " 'Side Effect:Anemia, Side Effect:Leukopenia',\n",
       " 'Side Effect:mild leukopenia',\n",
       " 'Other:oxidative stress',\n",
       " 'Efficacy:LDL-C response',\n",
       " 'Efficacy: disease activity as assessed by the physician, less patient-assessed difficulty with physical tasks, and fewer swollen joints',\n",
       " 'PK:trough concentrations',\n",
       " '\"Side Effect:dress syndrome\", \"Side Effect:Epidermal Necrolysis, Toxic\", \"Side Effect:Stevens-Johnson Syndrome\"',\n",
       " 'Side Effect:Hemolysis',\n",
       " 'Efficacy:protection from drug resistance',\n",
       " 'Other:warfarin dose in Japanese patients',\n",
       " 'Side Effect:Methemoglobinemia',\n",
       " 'Disease:glomerular disease',\n",
       " 'Side Effect:cutaneous reactions',\n",
       " 'Other:chronic lung allograft dysfunction',\n",
       " 'Disease:Craniofacial Abnormalities',\n",
       " 'Efficacy:emerging viral drug resistance',\n",
       " 'Disease:Hypertension',\n",
       " 'PK:clomipramine and desmethyl clomipramine plasma concentration',\n",
       " 'PK:methotrexate polyglutamate accumulation',\n",
       " 'Side Effect:specific adverse events',\n",
       " 'PK:imipramine and desipramine plasma concentrations',\n",
       " 'Other:stable warfarin dose',\n",
       " 'Side Effect:Osteonecrosis of the jaw',\n",
       " 'Side Effect:Carbamazepine-induced hypersensitivity syndrome',\n",
       " 'Efficacy:response rate or mean change of depressive symptoms',\n",
       " 'Disease:dry mouth',\n",
       " 'Efficacy:a trend of better treatment response (lower HAMD-17 score) starting at week 4',\n",
       " 'Efficacy:in the disease activity score',\n",
       " 'Disease:bioavailability',\n",
       " 'Side Effect:Dystonia',\n",
       " 'Disease:Death, Side Effect:Myelosuppression']"
      ]
     },
     "execution_count": 209,
     "metadata": {},
     "output_type": "execute_result"
    }
   ],
   "source": [
    "list(set(main_with_var['Phenotype']))[:100]"
   ]
  },
  {
   "cell_type": "code",
   "execution_count": 219,
   "id": "39f1d19c-48cd-40c4-8e5b-a13e13364272",
   "metadata": {},
   "outputs": [
    {
     "data": {
      "text/plain": [
       "1735"
      ]
     },
     "execution_count": 219,
     "metadata": {},
     "output_type": "execute_result"
    }
   ],
   "source": [
    "len(set(main_with_var['Phenotype']))"
   ]
  },
  {
   "cell_type": "code",
   "execution_count": 216,
   "id": "6182da30-8a3e-4f28-8994-17aa028a2f55",
   "metadata": {},
   "outputs": [
    {
     "data": {
      "text/plain": [
       "{'Disease', 'Efficacy', 'Other', 'PK', 'Side Effect'}"
      ]
     },
     "execution_count": 216,
     "metadata": {},
     "output_type": "execute_result"
    }
   ],
   "source": [
    "# Dirty attempt to get the prefix - doesn't account for multiples\n",
    "set(main_with_var['Phenotype'].dropna().apply(lambda p: p.split(':')[0].strip('\"')))"
   ]
  },
  {
   "cell_type": "code",
   "execution_count": 218,
   "id": "0965c47c-84f1-4b3b-b164-eab5011b3c94",
   "metadata": {},
   "outputs": [
    {
     "data": {
      "text/plain": [
       "1499"
      ]
     },
     "execution_count": 218,
     "metadata": {},
     "output_type": "execute_result"
    }
   ],
   "source": [
    "len(set(main_with_var['Phenotype'].dropna().apply(lambda p: p.split(':')[1].strip('\"'))))"
   ]
  },
  {
   "cell_type": "markdown",
   "id": "49c5775d-3fd8-4ab7-9e41-3cb47923555e",
   "metadata": {},
   "source": [
    "The prefix looks to be fixed and always present, which is kind of nice actually. The rest I think can come from body of PGKB terms or be filled in freely. We could perhaps map them (with OLS or NLP).\n",
    "\n",
    "Same is true for population phenotypes when present:"
   ]
  },
  {
   "cell_type": "code",
   "execution_count": 226,
   "id": "b3dbc780-9a76-4b2d-bf11-a090e9f66d7e",
   "metadata": {},
   "outputs": [
    {
     "data": {
      "text/plain": [
       "{'Disease', 'Efficacy', 'Other', 'PK', 'Side Effect'}"
      ]
     },
     "execution_count": 226,
     "metadata": {},
     "output_type": "execute_result"
    }
   ],
   "source": [
    "# var_fa does not have the column so I can't use my nice function :(\n",
    "(\n",
    "    set(main_with_var['Population Phenotypes or diseases'].dropna().apply(lambda p: p.split(':')[0].strip('\"'))) \n",
    "    | set(main_with_var['Population Phenotypes or diseases_var_pheno'].dropna().apply(lambda p: p.split(':')[0].strip('\"'))) \n",
    ")"
   ]
  },
  {
   "cell_type": "markdown",
   "id": "59bcdfc1-98df-4f21-aa2e-487b2d4af3dc",
   "metadata": {},
   "source": [
    "## Alleles and genotypes\n",
    "\n",
    "[Top of page](#Table-of-contents)"
   ]
  },
  {
   "cell_type": "code",
   "execution_count": null,
   "id": "423328ff-d104-474f-bc96-153df5945c19",
   "metadata": {},
   "outputs": [],
   "source": [
    "# Visual inspection of alleles - output suppressed for brevity\n",
    "main_with_var_values_in('Alleles')"
   ]
  },
  {
   "cell_type": "code",
   "execution_count": null,
   "id": "a9279f41-dd40-4d15-a553-6ab08f8312b4",
   "metadata": {},
   "outputs": [],
   "source": [
    "main_with_var_values_in('Comparison Allele(s) or Genotype(s)')"
   ]
  },
  {
   "cell_type": "markdown",
   "id": "63924c24-053d-4fc2-806a-4e77fad198b4",
   "metadata": {},
   "source": [
    "Alleles and comparison alleles look relatively consistent with what's in the alleles table:\n",
    "* SNP genotype `C/T` or `CC` (annoying)\n",
    "* SNP allele `C`\n",
    "* indel `GGGGAGCTTTCCCAGAGACCC/del`\n",
    "* named allele `*17` or `HTTLPR short form (S allele)`\n",
    "* named genotype `*2/*4`\n",
    "* combinations of the above delineated with `+`"
   ]
  },
  {
   "cell_type": "code",
   "execution_count": 203,
   "id": "589d7070-76d0-4559-bafc-b422646134ca",
   "metadata": {
    "scrolled": true
   },
   "outputs": [
    {
     "data": {
      "text/plain": [
       "['G6PD Canton, Taiwan-Hakka, Gifu-like, Agrigento-like',\n",
       " 'G6PD A- 202A_376G',\n",
       " 'G6PD A- 202A_376G, G6PD B (reference)',\n",
       " 'CYP1A2 high activity',\n",
       " 'SLC6A4 HTTLPR long form (L allele), SLC6A4 HTTLPR short form (S allele)',\n",
       " 'SLC6A4 HTTLPR short form (S allele)',\n",
       " 'CYP2D6 poor metabolizer genotype',\n",
       " 'CYP1A2 low activity',\n",
       " 'CYP2A6 poor metabolizer genotype',\n",
       " 'CYP2D6 ultrarapid metabolizer genotype',\n",
       " 'CYP2D6 low activity',\n",
       " 'CYP2A6 low activity',\n",
       " 'G6PD B (reference), G6PD Mediterranean Haplotype',\n",
       " 'CYP2C19 poor metabolizer phenotype',\n",
       " 'CYP2C19 poor metabolizers',\n",
       " 'CYP2C19 poor metabolizer genotype',\n",
       " 'CYP2D6 poor metabolizer phenotype',\n",
       " 'CYP3A4 low activity',\n",
       " 'TPMT intermediate metabolizer phenotype',\n",
       " 'G6PD deficiency',\n",
       " 'NAT2 slow acetylator',\n",
       " 'CYP2D6 ultrarapid metabolizer phenotype',\n",
       " 'CYP2D6 poor and ultrarapid metabolizers',\n",
       " 'CYP2D6 poor metabolizer and intermediate metabolizer genotypes',\n",
       " 'CYP2D6 normal metabolizer and ultrarapid metabolizer genotypes',\n",
       " 'CYP2C19 normal metabolizers',\n",
       " 'CYP2C19 poor metabolizer and intermediate metabolizer genotypes',\n",
       " 'SLC6A4 HTTLPR short form (S allele), SLC6A4 L allele-rs25531C, SLC6A4 L allele-rs25531T',\n",
       " 'CYP2C9 poor metabolizer',\n",
       " 'GSTT1 non-null, GSTT1 null',\n",
       " 'CYP2A6 intermediate activity',\n",
       " 'G6PD B (reference), G6PD Mediterranean, Dallas, Panama, Sassari, Cagliari, Birmingham',\n",
       " 'G6PD A- 202A_376G, G6PD B (reference), G6PD Mediterranean, Dallas, Panama, Sassari, Cagliari, Birmingham',\n",
       " 'GSTM1 non-null, GSTM1 null',\n",
       " 'G6PD A- 202A_376G, G6PD B (reference), G6PD Mediterranean Haplotype, G6PD Mediterranean, Dallas, Panama, Sassari, Cagliari, Birmingham',\n",
       " 'TPMT intermediate metabolizer genotype',\n",
       " 'CYP2C19 intermediate metabolizer',\n",
       " 'G6PD Mediterranean, Dallas, Panama, Sassari, Cagliari, Birmingham',\n",
       " 'CYP2D6 normal metabolizer genotype',\n",
       " 'G6PD B (reference), G6PD Mediterranean Haplotype, G6PD Mediterranean, Dallas, Panama, Sassari, Cagliari, Birmingham',\n",
       " 'CYP2D6 poor metabolizer',\n",
       " 'GSTT1 null',\n",
       " 'G6PD B (reference), G6PD Canton, Taiwan-Hakka, Gifu-like, Agrigento-like',\n",
       " 'TPMT poor metabolizer phenotype',\n",
       " 'CYP2D6 poor metabolizers',\n",
       " 'CYP2C19 normal metabolizer',\n",
       " 'CYP2C19 intermediate metabolizers',\n",
       " 'CYP2D6 normal metabolizers',\n",
       " 'GSTM1 null',\n",
       " 'NAT2 intermediate acetylator',\n",
       " 'TPMT poor metabolizers',\n",
       " 'CYP2D6 intermediate metabolizers',\n",
       " 'GSTM1 non-null',\n",
       " 'TPMT intermediate metabolizers',\n",
       " 'SLC6A4 L allele-rs25531T',\n",
       " 'CYP2C19 poor metabolizer',\n",
       " 'CYP2D6 poor metabolizers and intermediate metabolizers']"
      ]
     },
     "execution_count": 203,
     "metadata": {},
     "output_type": "execute_result"
    }
   ],
   "source": [
    "variant_haps = main_with_var_values_in('Variant/Haplotypes')\n",
    "\n",
    "[v for v in variant_haps if pd.notna(v) and not (v.startswith('rs') or '*' in v)]"
   ]
  },
  {
   "cell_type": "markdown",
   "id": "0beac63b-2343-4410-a8ac-24896e140dd0",
   "metadata": {},
   "source": [
    "Some of these are just named (non-star) alleles, but things like \"CYP2A6 poor metabolizer genotype\" are where the comparison metabolyzer gets used as opposed to comparison alleles.\n",
    "\n",
    "Not sure what to do about these - we can't easily associate them with an allele or genotype, only with the clinical annotation as a whole."
   ]
  },
  {
   "cell_type": "code",
   "execution_count": null,
   "id": "1871559a-3f16-4081-82ad-9095a416e44f",
   "metadata": {},
   "outputs": [],
   "source": []
  },
  {
   "cell_type": "markdown",
   "id": "237fc62d-e5e8-4df6-a9c9-6d266dc83e73",
   "metadata": {},
   "source": [
    "### To-do's\n",
    "\n",
    "Prototyping:\n",
    "* sample schema additions for unified representation\n",
    "* sample extraction\n",
    "* check multiplicity when connecting variant annotations to exploded evidence - what does this look like?"
   ]
  },
  {
   "cell_type": "markdown",
   "id": "daf324bb-3f75-46db-be7c-1cd8ea561964",
   "metadata": {},
   "source": [
    "## Summary\n",
    "\n",
    "[Top of page](#Table-of-contents)\n",
    "\n",
    "Specific questions:\n",
    "* Do we care about all of the tables? (for v1)\n",
    "* Do we care about the other columns? (for v1)"
   ]
  },
  {
   "cell_type": "code",
   "execution_count": null,
   "id": "c60bfd67-58b3-4264-b847-5847f6a14fce",
   "metadata": {},
   "outputs": [],
   "source": []
  }
 ],
 "metadata": {
  "kernelspec": {
   "display_name": "Python 3 (ipykernel)",
   "language": "python",
   "name": "python3"
  },
  "language_info": {
   "codemirror_mode": {
    "name": "ipython",
    "version": 3
   },
   "file_extension": ".py",
   "mimetype": "text/x-python",
   "name": "python",
   "nbconvert_exporter": "python",
   "pygments_lexer": "ipython3",
   "version": "3.8.10"
  }
 },
 "nbformat": 4,
 "nbformat_minor": 5
}
